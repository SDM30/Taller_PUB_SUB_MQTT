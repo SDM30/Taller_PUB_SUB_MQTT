{
 "cells": [
  {
   "cell_type": "code",
   "execution_count": null,
   "id": "acc86f6a",
   "metadata": {},
   "outputs": [
    {
     "name": "stdout",
     "output_type": "stream",
     "text": [
      "Requirement already satisfied: pyzbar in ./.venv/lib/python3.12/site-packages (0.1.9)\n",
      "Requirement already satisfied: opencv-python in ./.venv/lib/python3.12/site-packages (4.11.0.86)\n",
      "Requirement already satisfied: numpy>=1.21.2 in ./.venv/lib/python3.12/site-packages (from opencv-python) (2.2.5)\n",
      "Note: you may need to restart the kernel to use updated packages.\n"
     ]
    }
   ],
   "source": [
    "pip install pyzbar opencv-python\n",
    "pip install paho-mqtt"
   ]
  },
  {
   "cell_type": "code",
   "execution_count": null,
   "id": "95ef6c14",
   "metadata": {},
   "outputs": [],
   "source": [
    "from pyzbar import pyzbar\n",
    "import paho.mqtt.client as mqtt\n",
    "import cv2"
   ]
  },
  {
   "cell_type": "code",
   "execution_count": null,
   "id": "23086b8a",
   "metadata": {},
   "outputs": [],
   "source": [
    "#Informacion imagen\n",
    "class InfoImg:\n",
    "    def __init__(self, tipo, datos):\n",
    "        self.tipo = tipo\n",
    "        self.datos = datos"
   ]
  },
  {
   "cell_type": "code",
   "execution_count": null,
   "id": "c7b492c3",
   "metadata": {},
   "outputs": [],
   "source": [
    "def decode(image):\n",
    "    # Decodes all barcodes from an image\n",
    "    decoded_objects = pyzbar.decode(image)\n",
    "\n",
    "    if not decoded_objects:\n",
    "        print(\"No barcodes detected.\")\n",
    "        return None  # Retorna None si no hay códigos de barras\n",
    "\n",
    "    # Procesar solo el primer código de barras detectado\n",
    "    obj = decoded_objects[0]\n",
    "    print(\"Detected barcode:\", obj)\n",
    "    image = draw_barcode(obj, image)\n",
    "\n",
    "    # Decodificar el tipo y los datos\n",
    "    tipo = obj.type\n",
    "    datos = obj.data.decode(\"utf-8\")  # Decodificar los datos a texto\n",
    "    print(\"Type:\", tipo)\n",
    "    print(\"Data:\", datos)\n",
    "    print()\n",
    "\n",
    "    # Retornar los datos como un número (si es posible)\n",
    "    try:\n",
    "        return int(datos)  # Intenta convertir los datos a un número entero\n",
    "    except ValueError:\n",
    "        return datos  # Si no es un número, retorna los datos como texto\n",
    "\n",
    "    # Retornar la lista de instancias de infoImg\n",
    "    return info_list\n",
    "\n",
    "def draw_barcode(decoded, image):\n",
    "    # n_points = len(decoded.polygon)\n",
    "    # for i in range(n_points):\n",
    "    #     image = cv2.line(image, decoded.polygon[i], decoded.polygon[(i+1) % n_points], color=(0, 255, 0), thickness=5)\n",
    "    # uncomment above and comment below if you want to draw a polygon and not a rectangle\n",
    "    image = cv2.rectangle(image, (decoded.rect.left, decoded.rect.top), \n",
    "                            (decoded.rect.left + decoded.rect.width, decoded.rect.top + decoded.rect.height),\n",
    "                            color=(0, 255, 0),\n",
    "                            thickness=5)\n",
    "    return image\n",
    "\n",
    "def publicador(infoImg):\n",
    "    #Caso 1: Primero en recibir el codigo\n",
    "    #Caso 2: intermedio\n",
    "    #Caso 3: volver a crear el codigo de barra y enviarlo\n",
    "    # al correo del profersor\n",
    "client = mqtt.Client()\n",
    "client.connect(\"test.mosquitto.org\", 1883, 60)\n",
    "client.publish(\"PATRONES2025/G1\",\"hola\")"
   ]
  },
  {
   "cell_type": "code",
   "execution_count": null,
   "id": "5a39694a",
   "metadata": {},
   "outputs": [
    {
     "name": "stdout",
     "output_type": "stream",
     "text": [
      "Detected barcode: Decoded(data=b'312546789760', type='DATABAR_EXP', rect=Rect(left=17, top=8, width=650, height=111), polygon=[Point(x=17, y=9), Point(x=17, y=119), Point(x=262, y=119), Point(x=507, y=118), Point(x=667, y=116), Point(x=667, y=8)], quality=141, orientation='UP')\n",
      "Type: DATABAR_EXP\n",
      "Data: 312546789760\n",
      "\n",
      "312546789760\n"
     ]
    }
   ],
   "source": [
    "if __name__ == \"__main__\":\n",
    "    from glob import glob\n",
    "\n",
    "    barcodes = glob(\"Caso5.png\")\n",
    "\n",
    "    for barcode_file in barcodes:\n",
    "        # Cargar la imagen con OpenCV\n",
    "        img = cv2.imread(barcode_file)\n",
    "\n",
    "        # Decodificar el primer código de barras detectado\n",
    "        decoded_data = decode(img)\n",
    "\n",
    "        if decoded_data is not None:\n",
    "            print(f\"Datos del código de barras: {decoded_data}\")\n",
    "        else:\n",
    "            print(\"No se detectaron códigos de barras.\")"
   ]
  }
 ],
 "metadata": {
  "kernelspec": {
   "display_name": ".venv",
   "language": "python",
   "name": "python3"
  },
  "language_info": {
   "codemirror_mode": {
    "name": "ipython",
    "version": 3
   },
   "file_extension": ".py",
   "mimetype": "text/x-python",
   "name": "python",
   "nbconvert_exporter": "python",
   "pygments_lexer": "ipython3",
   "version": "3.12.3"
  }
 },
 "nbformat": 4,
 "nbformat_minor": 5
}
