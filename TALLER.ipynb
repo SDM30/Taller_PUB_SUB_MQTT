{
 "cells": [
  {
   "cell_type": "code",
   "execution_count": 1,
   "id": "acc86f6a",
   "metadata": {},
   "outputs": [
    {
     "name": "stdout",
     "output_type": "stream",
     "text": [
      "Requirement already satisfied: pyzbar in ./.venv/lib/python3.12/site-packages (0.1.9)\n",
      "Requirement already satisfied: opencv-python in ./.venv/lib/python3.12/site-packages (4.11.0.86)\n",
      "Requirement already satisfied: numpy>=1.21.2 in ./.venv/lib/python3.12/site-packages (from opencv-python) (2.2.5)\n",
      "Note: you may need to restart the kernel to use updated packages.\n"
     ]
    }
   ],
   "source": [
    "pip install pyzbar opencv-python"
   ]
  },
  {
   "cell_type": "code",
   "execution_count": 2,
   "id": "95ef6c14",
   "metadata": {},
   "outputs": [],
   "source": [
    "from pyzbar import pyzbar\n",
    "import cv2"
   ]
  },
  {
   "cell_type": "code",
   "execution_count": 3,
   "id": "c7b492c3",
   "metadata": {},
   "outputs": [],
   "source": [
    "def decode(image):\n",
    "    # decodes all barcodes from an image\n",
    "    decoded_objects = pyzbar.decode(image)\n",
    "    for obj in decoded_objects:\n",
    "        # draw the barcode\n",
    "        print(\"detected barcode:\", obj)\n",
    "        image = draw_barcode(obj, image)\n",
    "        # print barcode type & data\n",
    "        print(\"Type:\", obj.type)\n",
    "        print(\"Data:\", obj.data)\n",
    "        print()\n",
    "\n",
    "    return image\n",
    "\n",
    "def draw_barcode(decoded, image):\n",
    "    # n_points = len(decoded.polygon)\n",
    "    # for i in range(n_points):\n",
    "    #     image = cv2.line(image, decoded.polygon[i], decoded.polygon[(i+1) % n_points], color=(0, 255, 0), thickness=5)\n",
    "    # uncomment above and comment below if you want to draw a polygon and not a rectangle\n",
    "    image = cv2.rectangle(image, (decoded.rect.left, decoded.rect.top), \n",
    "                            (decoded.rect.left + decoded.rect.width, decoded.rect.top + decoded.rect.height),\n",
    "                            color=(0, 255, 0),\n",
    "                            thickness=5)\n",
    "    return image"
   ]
  },
  {
   "cell_type": "code",
   "execution_count": 5,
   "id": "5a39694a",
   "metadata": {},
   "outputs": [
    {
     "name": "stdout",
     "output_type": "stream",
     "text": [
      "detected barcode: Decoded(data=b'312546789760', type='DATABAR_EXP', rect=Rect(left=17, top=8, width=650, height=111), polygon=[Point(x=17, y=9), Point(x=17, y=119), Point(x=262, y=119), Point(x=507, y=118), Point(x=667, y=116), Point(x=667, y=8)], quality=141, orientation='UP')\n",
      "Type: DATABAR_EXP\n",
      "Data: b'312546789760'\n",
      "\n"
     ]
    }
   ],
   "source": [
    "if __name__ == \"__main__\":\n",
    "    from glob import glob\n",
    "\n",
    "    barcodes = glob(\"Caso5.png\")\n",
    "    \n",
    "    for barcode_file in barcodes:\n",
    "        # load the image to opencv\n",
    "        img = cv2.imread(barcode_file)\n",
    "        # decode detected barcodes & get the image\n",
    "        # that is drawn\n",
    "        img = decode(img)\n",
    "        # show the image\n",
    "        cv2.imshow(\"img\", img)\n",
    "        cv2.waitKey(0)"
   ]
  }
 ],
 "metadata": {
  "kernelspec": {
   "display_name": ".venv",
   "language": "python",
   "name": "python3"
  },
  "language_info": {
   "codemirror_mode": {
    "name": "ipython",
    "version": 3
   },
   "file_extension": ".py",
   "mimetype": "text/x-python",
   "name": "python",
   "nbconvert_exporter": "python",
   "pygments_lexer": "ipython3",
   "version": "3.12.3"
  }
 },
 "nbformat": 4,
 "nbformat_minor": 5
}
