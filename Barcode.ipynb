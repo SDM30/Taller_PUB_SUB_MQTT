{
  "nbformat": 4,
  "nbformat_minor": 0,
  "metadata": {
    "colab": {
      "provenance": []
    },
    "kernelspec": {
      "name": "python3",
      "display_name": "Python 3"
    },
    "language_info": {
      "name": "python"
    }
  },
  "cells": [
    {
      "cell_type": "code",
      "execution_count": 1,
      "metadata": {
        "colab": {
          "base_uri": "https://localhost:8080/"
        },
        "id": "HpbqvZ8oAvEM",
        "outputId": "281b645f-220b-43fa-a4dc-87558ad1146f"
      },
      "outputs": [
        {
          "output_type": "stream",
          "name": "stdout",
          "text": [
            "Collecting python-barcode\n",
            "  Downloading python_barcode-0.15.1-py3-none-any.whl.metadata (2.3 kB)\n",
            "Downloading python_barcode-0.15.1-py3-none-any.whl (212 kB)\n",
            "\u001b[?25l   \u001b[90m━━━━━━━━━━━━━━━━━━━━━━━━━━━━━━━━━━━━━━━━\u001b[0m \u001b[32m0.0/213.0 kB\u001b[0m \u001b[31m?\u001b[0m eta \u001b[36m-:--:--\u001b[0m\r\u001b[2K   \u001b[91m━━━━━━━━━━━━━━━━━━━━━━━━━━━━━━━━━━━━━━\u001b[0m\u001b[90m╺\u001b[0m\u001b[90m━\u001b[0m \u001b[32m204.8/213.0 kB\u001b[0m \u001b[31m6.3 MB/s\u001b[0m eta \u001b[36m0:00:01\u001b[0m\r\u001b[2K   \u001b[90m━━━━━━━━━━━━━━━━━━━━━━━━━━━━━━━━━━━━━━━━\u001b[0m \u001b[32m213.0/213.0 kB\u001b[0m \u001b[31m3.8 MB/s\u001b[0m eta \u001b[36m0:00:00\u001b[0m\n",
            "\u001b[?25hInstalling collected packages: python-barcode\n",
            "Successfully installed python-barcode-0.15.1\n"
          ]
        }
      ],
      "source": [
        "pip install python-barcode"
      ]
    },
    {
      "cell_type": "code",
      "source": [
        "import barcode\n",
        "from barcode.writer import ImageWriter\n",
        "from barcode import writer"
      ],
      "metadata": {
        "id": "uRrYTQihCLtj"
      },
      "execution_count": 2,
      "outputs": []
    },
    {
      "cell_type": "code",
      "source": [
        "#Definir el contenido del codigo de barras\n",
        "number = input(\"Ingrese el codigo que desea convertir: \")"
      ],
      "metadata": {
        "colab": {
          "base_uri": "https://localhost:8080/"
        },
        "id": "H944ywUUCre0",
        "outputId": "ac938714-5b38-45b1-8bf2-32731852206f"
      },
      "execution_count": 3,
      "outputs": [
        {
          "name": "stdout",
          "output_type": "stream",
          "text": [
            "Ingrese el codigo que desea convertir: 123456789412\n"
          ]
        }
      ]
    },
    {
      "cell_type": "code",
      "source": [
        "#Definir el formato del codigo de barras\n",
        "barcode_format = barcode.get_barcode_class(\"upc\")"
      ],
      "metadata": {
        "id": "JHb2KHktDu-H"
      },
      "execution_count": 4,
      "outputs": []
    },
    {
      "cell_type": "code",
      "source": [
        "#Generar codigo de barras e imagen\n",
        "my_barcode = barcode_format(number, writer=ImageWriter())"
      ],
      "metadata": {
        "id": "oOiEkU9yD_DO"
      },
      "execution_count": 5,
      "outputs": []
    },
    {
      "cell_type": "code",
      "source": [
        "#Guardar imagen como PNG\n",
        "my_barcode.save(\"Caso4\")"
      ],
      "metadata": {
        "id": "fW2A1U_tEK3i",
        "outputId": "e5ecbe42-1c38-4178-a9b9-022da110c8fd",
        "colab": {
          "base_uri": "https://localhost:8080/",
          "height": 36
        }
      },
      "execution_count": 6,
      "outputs": [
        {
          "output_type": "execute_result",
          "data": {
            "text/plain": [
              "'Caso4.png'"
            ],
            "application/vnd.google.colaboratory.intrinsic+json": {
              "type": "string"
            }
          },
          "metadata": {},
          "execution_count": 6
        }
      ]
    }
  ]
}