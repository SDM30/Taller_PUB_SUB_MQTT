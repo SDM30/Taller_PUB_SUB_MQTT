{
 "cells": [
  {
   "cell_type": "code",
   "execution_count": 1,
   "id": "acc86f6a",
   "metadata": {},
   "outputs": [
    {
     "name": "stdout",
     "output_type": "stream",
     "text": [
      "Requirement already satisfied: pyzbar in ./.venv/lib/python3.12/site-packages (0.1.9)\n",
      "Requirement already satisfied: opencv-python in ./.venv/lib/python3.12/site-packages (4.11.0.86)\n",
      "Requirement already satisfied: numpy>=1.21.2 in ./.venv/lib/python3.12/site-packages (from opencv-python) (2.2.5)\n",
      "Note: you may need to restart the kernel to use updated packages.\n"
     ]
    }
   ],
   "source": [
    "pip install pyzbar opencv-python"
   ]
  },
  {
   "cell_type": "code",
   "execution_count": 2,
   "id": "673cf0b3",
   "metadata": {},
   "outputs": [
    {
     "name": "stdout",
     "output_type": "stream",
     "text": [
      "Requirement already satisfied: paho-mqtt in ./.venv/lib/python3.12/site-packages (2.1.0)\n",
      "Note: you may need to restart the kernel to use updated packages.\n"
     ]
    }
   ],
   "source": [
    "pip install paho-mqtt"
   ]
  },
  {
   "cell_type": "code",
   "execution_count": 3,
   "id": "95ef6c14",
   "metadata": {},
   "outputs": [],
   "source": [
    "from pyzbar import pyzbar\n",
    "import paho.mqtt.client as mqtt\n",
    "import cv2"
   ]
  },
  {
   "cell_type": "code",
   "execution_count": 4,
   "id": "23086b8a",
   "metadata": {},
   "outputs": [],
   "source": [
    "#Informacion imagen\n",
    "class InfoImg:\n",
    "    def __init__(self, tipo, datos):\n",
    "        self.tipo = tipo\n",
    "        self.datos = datos"
   ]
  },
  {
   "cell_type": "code",
   "execution_count": null,
   "id": "c7b492c3",
   "metadata": {},
   "outputs": [],
   "source": [
    "def decode(image):\n",
    "    # Decodes all barcodes from an image\n",
    "    decoded_objects = pyzbar.decode(image)\n",
    "\n",
    "    if not decoded_objects:\n",
    "        print(\"No barcodes detected.\")\n",
    "        return None  # Retorna None si no hay códigos de barras\n",
    "\n",
    "    # Procesar solo el primer código de barras detectado\n",
    "    obj = decoded_objects[0]\n",
    "    print(\"Detected barcode:\", obj)\n",
    "    image = draw_barcode(obj, image)\n",
    "\n",
    "    # Decodificar el tipo y los datos\n",
    "    tipo = obj.type\n",
    "    datos = obj.data.decode(\"utf-8\")  # Decodificar los datos a texto\n",
    "    print(\"Type:\", tipo)\n",
    "    print(\"Data:\", datos)\n",
    "    print()\n",
    "\n",
    "    # Retornar una instancia de InfoImg\n",
    "    return InfoImg(tipo, datos)\n",
    "\n",
    "\n",
    "def draw_barcode(decoded, image):\n",
    "    # n_points = len(decoded.polygon)\n",
    "    # for i in range(n_points):\n",
    "    #     image = cv2.line(image, decoded.polygon[i], decoded.polygon[(i+1) % n_points], color=(0, 255, 0), thickness=5)\n",
    "    # uncomment above and comment below if you want to draw a polygon and not a rectangle\n",
    "    image = cv2.rectangle(image, (decoded.rect.left, decoded.rect.top), \n",
    "                            (decoded.rect.left + decoded.rect.width, decoded.rect.top + decoded.rect.height),\n",
    "                            color=(0, 255, 0),\n",
    "                            thickness=5)\n",
    "    return image\n",
    "\n",
    "def publicador(infoImg, numeroGrupo):\n",
    "    client = mqtt.Client(mqtt.CallbackAPIVersion.VERSION2)  # Actualizar API\n",
    "    client.connect(\"test.mosquitto.org\", 1883, 60)\n",
    "    \n",
    "    if str(infoImg.datos)[0] == str(numeroGrupo):\n",
    "        siguiente_grupo = str(infoImg.datos)[1]\n",
    "        nuevo_dato = int(infoImg.datos) + 10\n",
    "        client.publish(f\"PATRONES2025/G{siguiente_grupo}\", nuevo_dato)\n",
    "        print(f\"Enviando {nuevo_dato} al grupo {siguiente_grupo}\")\n",
    "        client.disconnect()  # Desconectar después de enviar\n",
    "        return\n",
    "\n",
    "def publicador(infoImg, numeroGrupo):\n",
    "    client = mqtt.Client(mqtt.CallbackAPIVersion.VERSION2)  # Usar API V2\n",
    "    client.connect(\"test.mosquitto.org\", 1883, 60)\n",
    "\n",
    "    # Caso 1: Grupo inicial (3)\n",
    "    if str(infoImg.datos)[0] == str(numeroGrupo):\n",
    "        siguiente_grupo = str(infoImg.datos)[1]  # Obtener el siguiente dígito (1)\n",
    "        nuevo_dato = int(infoImg.datos) + 10  # 312546789760 → 312546789770\n",
    "        client.publish(f\"PATRONES2025/#\", \"Del grupo 1 al grupo \"+ siguiente_grupo)\n",
    "        client.publish(f\"PATRONES2025/G{siguiente_grupo}\", nuevo_dato)\n",
    "        print(f\"Enviando {nuevo_dato} al grupo {siguiente_grupo}\")\n",
    "        client.disconnect()\n",
    "\n",
    "        # Llamada recursiva para el siguiente grupo (1)\n",
    "        publicador(infoImg, int(siguiente_grupo))  # Ahora procesa el grupo 1\n",
    "\n",
    "    else:\n",
    "        # Caso 2: Grupo intermedio (1)\n",
    "        def on_message(client, userdata, message):\n",
    "            print(f\"Mensaje recibido: {message.payload.decode()}\")\n",
    "            nuevo_dato = int(message.payload.decode()) + 10\n",
    "            datos_str = str(infoImg.datos)\n",
    "\n",
    "            if str(numeroGrupo) not in datos_str:\n",
    "                print(\"Grupo no está en los datos\")\n",
    "                client.disconnect()\n",
    "                return\n",
    "\n",
    "            index_actual = datos_str.index(str(numeroGrupo))\n",
    "            if index_actual + 1 >= len(datos_str):\n",
    "                print(\"Fin de la secuencia\")\n",
    "                client.disconnect()\n",
    "                return\n",
    "\n",
    "            siguiente_grupo = datos_str[index_actual + 1]\n",
    "            client.publish(f\"PATRONES2025/G{siguiente_grupo}\", nuevo_dato)\n",
    "            #client.publish(f\"PATRONES2025/#\", \"GRUPO 1 a GRUPO\" + siguiente_grupo)\n",
    "            print(f\"Publicado a G{siguiente_grupo}: {nuevo_dato}\")\n",
    "            client.disconnect()\n",
    "\n",
    "        client.on_message = on_message\n",
    "        client.subscribe(f\"PATRONES2025/G{numeroGrupo}\")\n",
    "        print(f\"Escuchando en PATRONES2025/G{numeroGrupo}...\")\n",
    "        client.loop_forever()"
   ]
  },
  {
   "cell_type": "code",
   "execution_count": 27,
   "id": "5a39694a",
   "metadata": {},
   "outputs": [
    {
     "name": "stdout",
     "output_type": "stream",
     "text": [
      "Detected barcode: Decoded(data=b'312546789760', type='DATABAR_EXP', rect=Rect(left=17, top=8, width=650, height=111), polygon=[Point(x=17, y=9), Point(x=17, y=119), Point(x=262, y=119), Point(x=507, y=118), Point(x=667, y=116), Point(x=667, y=8)], quality=141, orientation='UP')\n",
      "Type: DATABAR_EXP\n",
      "Data: 312546789760\n",
      "\n",
      "Tipo: DATABAR_EXP, Datos: 312546789760\n",
      "Escuchando en PATRONES2025/G1...\n",
      "Mensaje recibido: 312546789770\n",
      "Publicado a G2: 312546789780\n"
     ]
    }
   ],
   "source": [
    "if __name__ == \"__main__\":\n",
    "    from glob import glob\n",
    "\n",
    "    barcodes = glob(\"Caso5.png\")\n",
    "\n",
    "    for barcode_file in barcodes:\n",
    "        # Cargar la imagen con OpenCV\n",
    "        img = cv2.imread(barcode_file)\n",
    "\n",
    "        # Decodificar el primer código de barras detectado\n",
    "        decoded_info = decode(img)\n",
    "\n",
    "        if decoded_info is not None:\n",
    "            print(f\"Tipo: {decoded_info.tipo}, Datos: {decoded_info.datos}\")\n",
    "            # Intentar convertir los datos a un número\n",
    "            try:\n",
    "                datos = int(decoded_info.datos)  # Convertir los datos a un número entero si es posible\n",
    "                publicador(decoded_info, 1)\n",
    "\n",
    "            except ValueError:\n",
    "                print(\"No contiene datos, terminado programa\")\n",
    "                pass  # Si no es un número, mantener los datos como texto     \n",
    "        else:\n",
    "            print(\"No se detectaron códigos de barras.\")\n",
    "\n",
    "    "
   ]
  }
 ],
 "metadata": {
  "kernelspec": {
   "display_name": ".venv",
   "language": "python",
   "name": "python3"
  },
  "language_info": {
   "codemirror_mode": {
    "name": "ipython",
    "version": 3
   },
   "file_extension": ".py",
   "mimetype": "text/x-python",
   "name": "python",
   "nbconvert_exporter": "python",
   "pygments_lexer": "ipython3",
   "version": "3.12.3"
  }
 },
 "nbformat": 4,
 "nbformat_minor": 5
}
