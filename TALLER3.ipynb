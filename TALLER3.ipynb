{
  "cells": [
    {
      "cell_type": "code",
      "execution_count": 25,
      "id": "673cf0b3",
      "metadata": {
        "colab": {
          "base_uri": "https://localhost:8080/"
        },
        "collapsed": true,
        "id": "673cf0b3",
        "outputId": "268047b7-3f4f-418b-8d02-d91125065927"
      },
      "outputs": [
        {
          "output_type": "stream",
          "name": "stdout",
          "text": [
            "Requirement already satisfied: paho-mqtt in /usr/local/lib/python3.11/dist-packages (2.1.0)\n"
          ]
        }
      ],
      "source": [
        "pip install paho-mqtt"
      ]
    },
    {
      "cell_type": "code",
      "execution_count": 26,
      "id": "cGEdTUkdU1AV",
      "metadata": {
        "colab": {
          "base_uri": "https://localhost:8080/"
        },
        "collapsed": true,
        "id": "cGEdTUkdU1AV",
        "outputId": "3e341ecf-7c06-454e-ee8e-393706e8ae40"
      },
      "outputs": [
        {
          "output_type": "stream",
          "name": "stdout",
          "text": [
            "Requirement already satisfied: python-barcode in /usr/local/lib/python3.11/dist-packages (0.15.1)\n",
            "Requirement already satisfied: yagmail in /usr/local/lib/python3.11/dist-packages (0.15.293)\n",
            "Requirement already satisfied: premailer in /usr/local/lib/python3.11/dist-packages (from yagmail) (3.10.0)\n",
            "Requirement already satisfied: lxml in /usr/local/lib/python3.11/dist-packages (from premailer->yagmail) (5.3.2)\n",
            "Requirement already satisfied: cssselect in /usr/local/lib/python3.11/dist-packages (from premailer->yagmail) (1.3.0)\n",
            "Requirement already satisfied: cssutils in /usr/local/lib/python3.11/dist-packages (from premailer->yagmail) (2.11.1)\n",
            "Requirement already satisfied: requests in /usr/local/lib/python3.11/dist-packages (from premailer->yagmail) (2.32.3)\n",
            "Requirement already satisfied: cachetools in /usr/local/lib/python3.11/dist-packages (from premailer->yagmail) (5.5.2)\n",
            "Requirement already satisfied: more-itertools in /usr/local/lib/python3.11/dist-packages (from cssutils->premailer->yagmail) (10.6.0)\n",
            "Requirement already satisfied: charset-normalizer<4,>=2 in /usr/local/lib/python3.11/dist-packages (from requests->premailer->yagmail) (3.4.1)\n",
            "Requirement already satisfied: idna<4,>=2.5 in /usr/local/lib/python3.11/dist-packages (from requests->premailer->yagmail) (3.10)\n",
            "Requirement already satisfied: urllib3<3,>=1.21.1 in /usr/local/lib/python3.11/dist-packages (from requests->premailer->yagmail) (2.3.0)\n",
            "Requirement already satisfied: certifi>=2017.4.17 in /usr/local/lib/python3.11/dist-packages (from requests->premailer->yagmail) (2025.1.31)\n"
          ]
        }
      ],
      "source": [
        "pip install python-barcode yagmail"
      ]
    },
    {
      "cell_type": "code",
      "source": [
        "!apt-get update && apt-get install -y libzbar0"
      ],
      "metadata": {
        "colab": {
          "base_uri": "https://localhost:8080/"
        },
        "collapsed": true,
        "id": "iwn4ujTvxWHF",
        "outputId": "09dad3f5-9ef9-4f71-e950-d20911e2045c"
      },
      "id": "iwn4ujTvxWHF",
      "execution_count": 27,
      "outputs": [
        {
          "output_type": "stream",
          "name": "stdout",
          "text": [
            "\r0% [Working]\r            \rHit:1 http://security.ubuntu.com/ubuntu jammy-security InRelease\n",
            "\r0% [Waiting for headers] [Connected to cloud.r-project.org (108.157.173.52)] [C\r                                                                               \rHit:2 http://archive.ubuntu.com/ubuntu jammy InRelease\n",
            "\r                                                                               \rHit:3 http://archive.ubuntu.com/ubuntu jammy-updates InRelease\n",
            "\r                                                                               \rHit:4 http://archive.ubuntu.com/ubuntu jammy-backports InRelease\n",
            "Hit:5 https://cloud.r-project.org/bin/linux/ubuntu jammy-cran40/ InRelease\n",
            "Hit:6 https://developer.download.nvidia.com/compute/cuda/repos/ubuntu2204/x86_64  InRelease\n",
            "Hit:7 https://r2u.stat.illinois.edu/ubuntu jammy InRelease\n",
            "Hit:8 https://ppa.launchpadcontent.net/deadsnakes/ppa/ubuntu jammy InRelease\n",
            "Hit:9 https://ppa.launchpadcontent.net/graphics-drivers/ppa/ubuntu jammy InRelease\n",
            "Hit:10 https://ppa.launchpadcontent.net/ubuntugis/ppa/ubuntu jammy InRelease\n",
            "Reading package lists... Done\n",
            "W: Skipping acquire of configured file 'main/source/Sources' as repository 'https://r2u.stat.illinois.edu/ubuntu jammy InRelease' does not seem to provide it (sources.list entry misspelt?)\n",
            "Reading package lists... Done\n",
            "Building dependency tree... Done\n",
            "Reading state information... Done\n",
            "libzbar0 is already the newest version (0.23.92-4build2).\n",
            "0 upgraded, 0 newly installed, 0 to remove and 36 not upgraded.\n"
          ]
        }
      ]
    },
    {
      "cell_type": "code",
      "source": [
        "pip install pyzbar opencv-python"
      ],
      "metadata": {
        "collapsed": true,
        "colab": {
          "base_uri": "https://localhost:8080/"
        },
        "id": "-1vYumNFxGGk",
        "outputId": "f746a319-b27c-493f-8e13-f2c873efa2ba"
      },
      "id": "-1vYumNFxGGk",
      "execution_count": 28,
      "outputs": [
        {
          "output_type": "stream",
          "name": "stdout",
          "text": [
            "Requirement already satisfied: pyzbar in /usr/local/lib/python3.11/dist-packages (0.1.9)\n",
            "Requirement already satisfied: opencv-python in /usr/local/lib/python3.11/dist-packages (4.11.0.86)\n",
            "Requirement already satisfied: numpy>=1.21.2 in /usr/local/lib/python3.11/dist-packages (from opencv-python) (2.0.2)\n"
          ]
        }
      ]
    },
    {
      "cell_type": "code",
      "execution_count": 29,
      "id": "95ef6c14",
      "metadata": {
        "id": "95ef6c14"
      },
      "outputs": [],
      "source": [
        "from pyzbar import pyzbar\n",
        "import paho.mqtt.client as mqtt\n",
        "import cv2"
      ]
    },
    {
      "cell_type": "code",
      "execution_count": 30,
      "id": "23086b8a",
      "metadata": {
        "id": "23086b8a"
      },
      "outputs": [],
      "source": [
        "#Informacion imagen\n",
        "class InfoImg:\n",
        "    def __init__(self, tipo, datos):\n",
        "        self.tipo = tipo\n",
        "        self.datos = datos"
      ]
    },
    {
      "cell_type": "code",
      "execution_count": 35,
      "id": "c7b492c3",
      "metadata": {
        "id": "c7b492c3"
      },
      "outputs": [],
      "source": [
        "def decode(image):\n",
        "    # Decodes all barcodes from an image\n",
        "    decoded_objects = pyzbar.decode(image)\n",
        "\n",
        "    if not decoded_objects:\n",
        "        print(\"No barcodes detected.\")\n",
        "        return None  # Retorna None si no hay códigos de barras\n",
        "\n",
        "    # Procesar solo el primer código de barras detectado\n",
        "    obj = decoded_objects[0]\n",
        "    print(\"Detected barcode:\", obj)\n",
        "    image = draw_barcode(obj, image)\n",
        "\n",
        "    # Decodificar el tipo y los datos\n",
        "    tipo = obj.type\n",
        "    datos = obj.data.decode(\"utf-8\")  # Decodificar los datos a texto\n",
        "    print(\"Type:\", tipo)\n",
        "    print(\"Data:\", datos)\n",
        "    print()\n",
        "\n",
        "    # Retornar una instancia de InfoImg\n",
        "    return InfoImg(tipo, datos)\n",
        "\n",
        "def draw_barcode(decoded, image):\n",
        "    # n_points = len(decoded.polygon)\n",
        "    # for i in range(n_points):\n",
        "    #     image = cv2.line(image, decoded.polygon[i], decoded.polygon[(i+1) % n_points], color=(0, 255, 0), thickness=5)\n",
        "    # uncomment above and comment below if you want to draw a polygon and not a rectangle\n",
        "    image = cv2.rectangle(image, (decoded.rect.left, decoded.rect.top),\n",
        "                            (decoded.rect.left + decoded.rect.width, decoded.rect.top + decoded.rect.height),\n",
        "                            color=(0, 255, 0),\n",
        "                            thickness=5)\n",
        "    return image\n",
        "\n",
        "# def publicador(infoImg, numeroGrupo):\n",
        "#     client = mqtt.Client(mqtt.CallbackAPIVersion.VERSION2)  # Actualizar API\n",
        "#     client.connect(\"test.mosquitto.org\", 1883, 60)\n",
        "\n",
        "#     if str(infoImg.datos)[0] == str(numeroGrupo):\n",
        "#         siguiente_grupo = str(infoImg.datos)[1]\n",
        "#         nuevo_dato = int(infoImg.datos) + 10\n",
        "#         client.publish(f\"PATRONES2025/G{siguiente_grupo}\", nuevo_dato)\n",
        "#         print(f\"Enviando {nuevo_dato} al grupo {siguiente_grupo}\")\n",
        "#         client.disconnect()  # Desconectar después de enviar\n",
        "#         return\n",
        "\n",
        "def publicador(infoImg, numeroGrupo):\n",
        "    client = mqtt.Client(mqtt.CallbackAPIVersion.VERSION2)  # Usar API V2\n",
        "    client.connect(\"test.mosquitto.org\", 1883, 60)\n",
        "\n",
        "    # Caso 1: Grupo inicial (3)\n",
        "    if str(infoImg.datos)[0] == str(numeroGrupo):\n",
        "        siguiente_grupo = str(infoImg.datos)[1]  # Obtener el siguiente dígito (1)\n",
        "        nuevo_dato = int(infoImg.datos) + 10  # 312546789760 → 312546789770\n",
        "        client.publish(f\"PATRONES2025/all\", \"Del grupo 3 al grupo \"+ siguiente_grupo)\n",
        "        client.publish(f\"PATRONES2025/G{siguiente_grupo}\", nuevo_dato)\n",
        "        print(f\"Enviando {nuevo_dato} al grupo {siguiente_grupo}\")\n",
        "        client.disconnect()\n",
        "\n",
        "        # Llamada recursiva para el siguiente grupo (1)\n",
        "        publicador(infoImg, int(siguiente_grupo))  # Ahora procesa el grupo 1\n",
        "\n",
        "    else:\n",
        "        # Caso 2: Grupo intermedio (1)\n",
        "        def on_message(client, userdata, message):\n",
        "            print(f\"Mensaje recibido: {message.payload.decode()}\")\n",
        "            nuevo_dato = int(message.payload.decode()) + 10\n",
        "            datos_str = str(infoImg.datos)\n",
        "\n",
        "            if str(numeroGrupo) not in datos_str:\n",
        "                print(\"Grupo no está en los datos\")\n",
        "                client.disconnect()\n",
        "                return\n",
        "\n",
        "            index_actual = datos_str.index(str(numeroGrupo))\n",
        "\n",
        "            #Caso 3: En caso de recibir el mensaje para G1, envia el correo\n",
        "            if index_actual == 4:\n",
        "              send_email(str(nuevo_dato))\n",
        "              client.publish(f\"PATRONES2025/all\", f\"Enviado al correo\")\n",
        "              return\n",
        "\n",
        "            if index_actual + 1 >= len(datos_str):\n",
        "                print(\"Fin de la secuencia\")\n",
        "                client.disconnect()\n",
        "                return\n",
        "\n",
        "            siguiente_grupo = datos_str[index_actual + 1]\n",
        "            client.publish(f\"PATRONES2025/G{siguiente_grupo}\", nuevo_dato)\n",
        "            # client.publish(f\"PATRONES2025/#\", \"GRUPO \" + numeroGrupo + \" a GRUPO\" + siguiente_grupo)\n",
        "            print(f\"Publicado a G{siguiente_grupo}: {nuevo_dato}\")\n",
        "            client.disconnect()\n",
        "\n",
        "        client.on_message = on_message\n",
        "        client.subscribe(f\"PATRONES2025/G{numeroGrupo}\")\n",
        "        print(f\"Escuchando en PATRONES2025/G{numeroGrupo}...\")\n",
        "        client.loop_forever()\n",
        "\n",
        "from barcode import EAN13\n",
        "from barcode.writer import ImageWriter\n",
        "import yagmail\n",
        "\n",
        "def send_email(payload: str):\n",
        "    # try:\n",
        "        # Validar que el código tenga 12 o 13 dígitos numéricos\n",
        "        if not (len(payload) in (12, 13) and payload.isdigit()):\n",
        "            raise ValueError(\"El código debe contener 12 o 13 dígitos numéricos.\")\n",
        "\n",
        "        # Crear el código EAN-13 (el dígito de control se calcula automáticamente si son 12 dígitos)\n",
        "        ean = EAN13(payload, writer=ImageWriter())\n",
        "\n",
        "        # 2. Verifica que `ean` no sea None\n",
        "        if ean is None:\n",
        "            raise ValueError(\"Formato de código de barras no válido. ¿Está instalado python-barcode?\")\n",
        "\n",
        "        # 3. Genera el código de barras\n",
        "        # bar = ean(payload, writer=ImageWriter())\n",
        "        filename = ean.save(\"barcode\")  # Guarda como \"barcode.png\"\n",
        "\n",
        "        # 4. Envía el email\n",
        "        user = \"sierraincollege@gmail.com\"\n",
        "        to_email = \"kamisops@gmail.com\"\n",
        "        subject = \"Codigo Taller G1\"\n",
        "\n",
        "        gmail = yagmail.SMTP(user, password=\"bsok bfqe atlu omjy\")\n",
        "        gmail.send(to_email, subject, [filename])  # Añade extensión .png\n",
        "        print(f\"Email sent to {to_email}\")\n",
        "\n",
        "    # except Exception as e:\n",
        "    #     print(f\"Error al generar el código EAN-13: {e}\")\n",
        "    #     return None"
      ]
    },
    {
      "cell_type": "code",
      "execution_count": null,
      "id": "5a39694a",
      "metadata": {
        "colab": {
          "base_uri": "https://localhost:8080/"
        },
        "id": "5a39694a",
        "outputId": "7743089c-c675-4730-f7e8-268b00da90f1"
      },
      "outputs": [
        {
          "output_type": "stream",
          "name": "stdout",
          "text": [
            "Detected barcode: Decoded(data=b'3675163619849', type='EAN13', rect=Rect(left=76, top=11, width=371, height=177), polygon=[Point(x=76, y=11), Point(x=76, y=187), Point(x=267, y=188), Point(x=447, y=188), Point(x=447, y=12)], quality=355, orientation='UP')\n",
            "Type: EAN13\n",
            "Data: 3675163619849\n",
            "\n",
            "Tipo: EAN13, Datos: 3675163619849\n",
            "Escuchando en PATRONES2025/G1...\n",
            "Mensaje recibido: 3675163619889\n",
            "Email sent to kamisops@gmail.com\n"
          ]
        }
      ],
      "source": [
        "if __name__ == \"__main__\":\n",
        "    from glob import glob\n",
        "\n",
        "    barcodes = glob(\"Caso3.png\")\n",
        "\n",
        "    for barcode_file in barcodes:\n",
        "        # Cargar la imagen con OpenCV\n",
        "        img = cv2.imread(barcode_file)\n",
        "\n",
        "        # Decodificar el primer código de barras detectado\n",
        "        decoded_info = decode(img)\n",
        "\n",
        "        if decoded_info is not None:\n",
        "            print(f\"Tipo: {decoded_info.tipo}, Datos: {decoded_info.datos}\")\n",
        "            # Intentar convertir los datos a un número\n",
        "            try:\n",
        "                datos = int(decoded_info.datos)  # Convertir los datos a un número entero si es posible\n",
        "                publicador(decoded_info, 1)\n",
        "\n",
        "            except ValueError:\n",
        "                print(\"No contiene datos, terminado programa\")\n",
        "                pass  # Si no es un número, mantener los datos como texto\n",
        "        else:\n",
        "            print(\"No se detectaron códigos de barras.\")\n",
        "\n"
      ]
    }
  ],
  "metadata": {
    "colab": {
      "provenance": []
    },
    "kernelspec": {
      "display_name": "base",
      "language": "python",
      "name": "python3"
    },
    "language_info": {
      "codemirror_mode": {
        "name": "ipython",
        "version": 3
      },
      "file_extension": ".py",
      "mimetype": "text/x-python",
      "name": "python",
      "nbconvert_exporter": "python",
      "pygments_lexer": "ipython3",
      "version": "3.12.9"
    }
  },
  "nbformat": 4,
  "nbformat_minor": 5
}